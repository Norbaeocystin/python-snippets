{
 "cells": [
  {
   "cell_type": "markdown",
   "metadata": {},
   "source": [
    "<strong> Code using asyncio and aiohttp <strong>"
   ]
  },
  {
   "cell_type": "code",
   "execution_count": 29,
   "metadata": {},
   "outputs": [],
   "source": [
    "#example of use aiohttp for scraping\n",
    "import time\n",
    "import asyncio\n",
    "import aiohttp\n",
    "from aiohttp import ClientSession\n",
    "from bs4 import BeautifulSoup\n",
    "# import below is just for asyncio working properly in jupyter\n",
    "import nest_asyncio\n",
    "nest_asyncio.apply()\n",
    "\n",
    "data = []\n",
    "urls = ['https://norbaeocystin.github.io/']\n",
    "\n",
    "headers = {'User-Agent': 'Mozilla/4.0 (compatible; MSIE 9.0; Windows NT 6.1)'}\n",
    "\n",
    "#experiment with semaphore\n",
    "#sem = asyncio.Semaphore(10)\n",
    "#async with sem:\n",
    "\n",
    "async def get_data(session, url):\n",
    "    '''\n",
    "    will get response from website and apply BeautifulSoup on it\n",
    "    '''\n",
    "    async with session.get(url, headers = headers) as response:\n",
    "        response = await response.read()\n",
    "        string_response = response.decode()\n",
    "        soup = BeautifulSoup(string_response)\n",
    "        data.append(soup.text)\n",
    " \n",
    " \n",
    "async def apply_get_data(loop, urls):\n",
    "    '''\n",
    "    apply on list of urls\n",
    "    '''\n",
    "    async with aiohttp.ClientSession(loop=loop) as session:\n",
    "        tasks = [get_data(session, url) for url in urls]\n",
    "        await asyncio.gather(*tasks)\n",
    "        \n",
    "async def apply_get_data_with_semaphore(loop, urls, sem):\n",
    "    '''\n",
    "    apply on list of urls\n",
    "    with Semaphore \n",
    "    '''\n",
    "    semaphore = asyncio.Semaphore(sem)\n",
    "    async with semaphore:\n",
    "        async with aiohttp.ClientSession(loop=loop) as session:\n",
    "            tasks = [get_data(session, url) for url in urls]\n",
    "            await asyncio.gather(*tasks)\n",
    "\n",
    "def get_time_asyncio(value):\n",
    "    '''\n",
    "    will multiply list of urls by value and run asyncio with aiohttp requests\n",
    "    return time how long it takes\n",
    "    '''\n",
    "    t = time.time()\n",
    "    loop = asyncio.get_event_loop()\n",
    "    loop.run_until_complete(apply_get_data(loop, urls * value))\n",
    "    return time.time() - t\n",
    "\n",
    "def get_time_asyncio_with_semaphore(value, sem):\n",
    "    '''\n",
    "    will multiply list of urls by value and run asyncio with aiohttp requests\n",
    "    return time how long it takes\n",
    "    '''\n",
    "    t = time.time()\n",
    "    loop = asyncio.get_event_loop()\n",
    "    loop.run_until_complete(apply_get_data_with_semaphore(loop, urls * value, sem))\n",
    "    return time.time() - t"
   ]
  },
  {
   "cell_type": "markdown",
   "metadata": {},
   "source": [
    "<strong>Code using concurrent.futures and requests library</strong>"
   ]
  },
  {
   "cell_type": "code",
   "execution_count": 11,
   "metadata": {},
   "outputs": [],
   "source": [
    "from concurrent.futures import ThreadPoolExecutor\n",
    "import requests\n",
    "from bs4 import BeautifulSoup\n",
    "import time\n",
    "\n",
    "data = []\n",
    "urls = ['https://norbaeocystin.github.io/']\n",
    "\n",
    "headers = {'User-Agent': 'Mozilla/4.0 (compatible; MSIE 9.0; Windows NT 6.1)'}\n",
    "\n",
    "def get_data_threads(url):\n",
    "    r = requests.get(url, headers = headers)\n",
    "    soup = BeautifulSoup(r.text)\n",
    "    data.append(soup.text)\n",
    "\n",
    "def get_time_threads(value):\n",
    "    '''\n",
    "    will multiply list of urls by value and run scraping with number of threads = value\n",
    "    return time how long it takes\n",
    "    '''\n",
    "    t = time.time()\n",
    "    with ThreadPoolExecutor(max_workers = value) as executor:\n",
    "        executor.map(get_data_threads,urls * value)\n",
    "    return time.time() - t"
   ]
  },
  {
   "cell_type": "markdown",
   "metadata": {},
   "source": [
    "<strong> Running asyncio scraping from 1 to 301 urls in intervals 5<strong>"
   ]
  },
  {
   "cell_type": "code",
   "execution_count": 22,
   "metadata": {},
   "outputs": [],
   "source": [
    "asyncio_x = list(range(1,301,5))\n",
    "asyncio_y = []\n",
    "for item in asyncio_x:\n",
    "    t = get_time_asyncio(item)\n",
    "    asyncio_y.append(t)"
   ]
  },
  {
   "cell_type": "markdown",
   "metadata": {},
   "source": [
    "<strong> Running scraping on threads from 1 to 301 urls in intervals 5<strong>"
   ]
  },
  {
   "cell_type": "code",
   "execution_count": 12,
   "metadata": {},
   "outputs": [],
   "source": [
    "threads_x = list(range(1,301,5))\n",
    "threads_y = []\n",
    "for item in threads_x:\n",
    "    t = get_time_threads(item)\n",
    "    threads_y.append(t)"
   ]
  },
  {
   "cell_type": "markdown",
   "metadata": {},
   "source": [
    "<strong>Vizualization with matplotlib</strong>"
   ]
  },
  {
   "cell_type": "code",
   "execution_count": 23,
   "metadata": {},
   "outputs": [
    {
     "data": {
      "text/plain": [
       "<matplotlib.legend.Legend at 0x7f8c0425a470>"
      ]
     },
     "execution_count": 23,
     "metadata": {},
     "output_type": "execute_result"
    },
    {
     "data": {
      "image/png": "[encoded data removed]",
      "text/plain": [
       "<Figure size 432x288 with 1 Axes>"
      ]
     },
     "metadata": {
      "needs_background": "light"
     },
     "output_type": "display_data"
    }
   ],
   "source": [
    "%matplotlib inline\n",
    "import matplotlib.pyplot as plt\n",
    "fig, ax = plt.subplots()\n",
    "ax.plot(asyncio_x, asyncio_y, label = 'Asyncio')\n",
    "ax.plot(threads_x, threads_y, label = 'Threads')\n",
    "ax.legend()"
   ]
  },
  {
   "cell_type": "code",
   "execution_count": null,
   "metadata": {},
   "outputs": [],
   "source": []
  }
 ],
 "metadata": {
  "kernelspec": {
   "display_name": "Python 3",
   "language": "python",
   "name": "python3"
  },
  "language_info": {
   "codemirror_mode": {
    "name": "ipython",
    "version": 3
   },
   "file_extension": ".py",
   "mimetype": "text/x-python",
   "name": "python",
   "nbconvert_exporter": "python",
   "pygments_lexer": "ipython3",
   "version": "3.6.7"
  }
 },
 "nbformat": 4,
 "nbformat_minor": 2
}
